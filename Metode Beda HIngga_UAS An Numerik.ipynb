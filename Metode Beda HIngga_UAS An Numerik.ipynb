{
 "cells": [
  {
   "cell_type": "code",
   "execution_count": 51,
   "id": "363766ca",
   "metadata": {},
   "outputs": [],
   "source": [
    "import numpy as np\n",
    "import numpy.linalg as la\n",
    "import matplotlib.pyplot as plt"
   ]
  },
  {
   "cell_type": "code",
   "execution_count": 52,
   "id": "d70c93f3",
   "metadata": {},
   "outputs": [],
   "source": [
    "dx = 0.1\n",
    "xa = 1\n",
    "xb = 4\n",
    "\n",
    "N = int((xb-xa)/dx)\n",
    "x = np.linspace(xa,xb,N+1)\n",
    "y = np.zeros(N+1)\n",
    "\n",
    "y[0] = 2\n",
    "y[N] = 3\n",
    "\n",
    "A = np.zeros((N-1,N-1))\n",
    "B = np.zeros((N-1,1))"
   ]
  },
  {
   "cell_type": "code",
   "execution_count": 53,
   "id": "648ac5cb",
   "metadata": {},
   "outputs": [
    {
     "data": {
      "text/plain": [
       "array([1. , 1.1, 1.2, 1.3, 1.4, 1.5, 1.6, 1.7, 1.8, 1.9, 2. , 2.1, 2.2,\n",
       "       2.3, 2.4, 2.5, 2.6, 2.7, 2.8, 2.9, 3. , 3.1, 3.2, 3.3, 3.4, 3.5,\n",
       "       3.6, 3.7, 3.8, 3.9, 4. ])"
      ]
     },
     "execution_count": 53,
     "metadata": {},
     "output_type": "execute_result"
    }
   ],
   "source": [
    "x"
   ]
  },
  {
   "cell_type": "code",
   "execution_count": 54,
   "id": "27f677c4",
   "metadata": {},
   "outputs": [
    {
     "data": {
      "text/plain": [
       "array([2., 0., 0., 0., 0., 0., 0., 0., 0., 0., 0., 0., 0., 0., 0., 0., 0.,\n",
       "       0., 0., 0., 0., 0., 0., 0., 0., 0., 0., 0., 0., 0., 3.])"
      ]
     },
     "execution_count": 54,
     "metadata": {},
     "output_type": "execute_result"
    }
   ],
   "source": [
    "y"
   ]
  },
  {
   "cell_type": "code",
   "execution_count": 55,
   "id": "21270538",
   "metadata": {},
   "outputs": [],
   "source": [
    "c = 1/dx**2\n",
    "\n",
    "i = 0\n",
    "a = 1/dx**2 - 2/(x[i]**dx) - 2/x[i]**2\n",
    "b = 2/(x[i]*dx) - 2/dx**2\n",
    "d = np.sin(np.log(x[i]))/x[i]**2\n",
    "\n",
    "A[i,i]   = b\n",
    "A[i,i+1] = c \n",
    "\n",
    "B[i] = d - a*y[i]\n",
    "\n",
    "for i in range(1,N-2):\n",
    "    a = 1/dx**2 - 2/(x[i]**dx) - 2/x[i]**2\n",
    "    b = 2/(x[i]*dx) - 2/dx**2\n",
    "    d = np.sin(np.log(x[i]))/x[i]**2\n",
    "    \n",
    "    A[i,i-1] = a\n",
    "    A[i,i]   = b\n",
    "    A[i,i+1] = c\n",
    "    \n",
    "    B[i] = d\n",
    "    \n",
    "i = N-2\n",
    "\n",
    "a = 1/dx**2 - 2/(x[i]**dx) - 2/x[i]**2\n",
    "b = 2/(x[i]*dx) - 2/dx**2\n",
    "d = np.sin(np.log(x[i]))/x[i]**2\n",
    "\n",
    "A[i,i-1] = a\n",
    "A[i,i]   = b\n",
    "\n",
    "B[i] = d - c*y[N]"
   ]
  },
  {
   "cell_type": "code",
   "execution_count": 56,
   "id": "ceafe96d",
   "metadata": {},
   "outputs": [
    {
     "name": "stdout",
     "output_type": "stream",
     "text": [
      "[-299.93266421]\n"
     ]
    }
   ],
   "source": [
    "print(B[i])"
   ]
  },
  {
   "cell_type": "code",
   "execution_count": 57,
   "id": "c7784dfb",
   "metadata": {},
   "outputs": [
    {
     "name": "stdout",
     "output_type": "stream",
     "text": [
      "0.06733579384329395\n"
     ]
    }
   ],
   "source": [
    "print(d)"
   ]
  },
  {
   "cell_type": "code",
   "execution_count": 58,
   "id": "88c3740a",
   "metadata": {},
   "outputs": [],
   "source": [
    "#invers matriks\n",
    "\n",
    "Y = la.solve(A,B)\n",
    "y[1:-1] = Y[:,0]"
   ]
  },
  {
   "cell_type": "code",
   "execution_count": 59,
   "id": "cd4f5e61",
   "metadata": {},
   "outputs": [
    {
     "data": {
      "text/plain": [
       "<function matplotlib.pyplot.show(close=None, block=None)>"
      ]
     },
     "execution_count": 59,
     "metadata": {},
     "output_type": "execute_result"
    },
    {
     "data": {
      "image/png": "[encoded data removed]",
      "text/plain": [
       "<Figure size 432x288 with 1 Axes>"
      ]
     },
     "metadata": {
      "needs_background": "light"
     },
     "output_type": "display_data"
    }
   ],
   "source": [
    "#untuk Delta x = 0,5\n",
    "\n",
    "plt.plot(x,y, 'o-r')\n",
    "plt.show"
   ]
  },
  {
   "cell_type": "code",
   "execution_count": 60,
   "id": "48cc718e",
   "metadata": {},
   "outputs": [
    {
     "data": {
      "image/png": "[encoded data removed]",
      "text/plain": [
       "<Figure size 432x288 with 1 Axes>"
      ]
     },
     "metadata": {
      "needs_background": "light"
     },
     "output_type": "display_data"
    }
   ],
   "source": [
    "plt.plot(A[i,i],B[i], 'o-r')\n",
    "plt.show()"
   ]
  }
 ],
 "metadata": {
  "kernelspec": {
   "display_name": "Python 3 (ipykernel)",
   "language": "python",
   "name": "python3"
  },
  "language_info": {
   "codemirror_mode": {
    "name": "ipython",
    "version": 3
   },
   "file_extension": ".py",
   "mimetype": "text/x-python",
   "name": "python",
   "nbconvert_exporter": "python",
   "pygments_lexer": "ipython3",
   "version": "3.8.2"
  }
 },
 "nbformat": 4,
 "nbformat_minor": 5
}
